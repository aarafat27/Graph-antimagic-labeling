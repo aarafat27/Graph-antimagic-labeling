{
 "cells": [
  {
   "cell_type": "code",
   "execution_count": 14,
   "id": "0450a5a9",
   "metadata": {},
   "outputs": [
    {
     "name": "stdout",
     "output_type": "stream",
     "text": [
      "2, 4, 6, 8, 10, 12, 14, 16, 18, 20, 22, 24, 26, 28, 30, 32, 34, 36, 38, 40, 42, 44, 46, 48, 50, 52, 54, 56, 58, 60, 62, 64, 66, 68, 70, 72, 74, 76, 78, 80, 82, 84, 86, 88, 90, 92, 94, 96, 98, 100, 102, 104, 106, 108, 110, 112, 114, 116, 118, 120, 122, 124, 126, 128, 130, 132, 134, 136, 138, 140, 142, 144, 146, 148, 150, 152, 154, 156, 158, 160, 162, 164, 166, 168, 170, 172, 174, 176, 178, 180, 182, 184, 186, 188, 190, 192, 194, 196, 198, 200, 202, 204, 206, 208, 210, 212, 214, 216, 218, 220, 222, 224, 226, 228, 230, 232, 234, 236, 238, 240, 242, 244, 246, 248, 250, 252, 254, 256, \n",
      "\n",
      "Length :  128\n"
     ]
    }
   ],
   "source": [
    "# l=7\n",
    "list_=[]\n",
    "for i in range(2,258,2):\n",
    "    list_.append(i)\n",
    "    print(i, end=', ')\n",
    "    \n",
    "print('\\n\\nLength : ',len(list_))"
   ]
  },
  {
   "cell_type": "code",
   "execution_count": 19,
   "id": "222893c1",
   "metadata": {},
   "outputs": [
    {
     "name": "stdout",
     "output_type": "stream",
     "text": [
      "7\n",
      "27, 37, 47, 57, 67, 77, 87, 97, 107, 117, 127, 137, 147, 157, 167, 177, 187, 197, 207, 217, 227, 237, 247, 257, 267, 277, 287, 297, 307, 317, 327, 337, 347, 357, 367, 377, 387, 397, 407, 417, 427, 437, 447, 457, 467, 477, 487, 497, 507, 517, 527, 537, 547, 557, 567, 577, 587, 597, 607, 617, 627, 637, 647, \n",
      "\n",
      "Length :  64\n",
      "[7, 17, 27, 37, 47, 57, 67, 77, 87, 97, 107, 117, 127, 137, 147, 157, 167, 177, 187, 197, 207, 217, 227, 237, 247, 257, 267, 277, 287, 297, 307, 317, 327, 337, 347, 357, 367, 377, 387, 397, 407, 417, 427, 437, 447, 457, 467, 477, 487, 497, 507, 517, 527, 537, 547, 557, 567, 577, 587, 597, 607, 617, 627, 637]\n"
     ]
    }
   ],
   "source": [
    "# l=6\n",
    "list_=[]\n",
    "for i in range(7,640,10):\n",
    "    if i == 7:\n",
    "        print(i)\n",
    "        list_.append(i)\n",
    "        continue\n",
    "    else:\n",
    "        list_.append(i)\n",
    "        print(i+10, end=', ')\n",
    "        \n",
    "print('\\n\\nLength : ',len(list_))\n",
    "\n",
    "print(list_)"
   ]
  },
  {
   "cell_type": "code",
   "execution_count": null,
   "id": "795831b9",
   "metadata": {},
   "outputs": [],
   "source": [
    "# l=4\n",
    "for i in range(62,317,10):\n",
    "    if i == 62:\n",
    "        print(i)\n",
    "        continue\n",
    "    else:\n",
    "        print(i+10, end=', ')"
   ]
  },
  {
   "cell_type": "code",
   "execution_count": 1,
   "id": "f43d774c",
   "metadata": {},
   "outputs": [],
   "source": [
    "from binarytree import tree, bst, heap"
   ]
  },
  {
   "cell_type": "code",
   "execution_count": 2,
   "id": "06671e50",
   "metadata": {},
   "outputs": [],
   "source": [
    " my_bst = bst(height=3, is_perfect=True)"
   ]
  },
  {
   "cell_type": "code",
   "execution_count": 3,
   "id": "976f1ae5",
   "metadata": {},
   "outputs": [
    {
     "name": "stdout",
     "output_type": "stream",
     "text": [
      "\n",
      "        ______7_______\n",
      "       /              \\\n",
      "    __3__           ___11___\n",
      "   /     \\         /        \\\n",
      "  1       5       9         _13\n",
      " / \\     / \\     / \\       /   \\\n",
      "0   2   4   6   8   10    12    14\n",
      "\n"
     ]
    }
   ],
   "source": [
    "print(my_bst)"
   ]
  },
  {
   "cell_type": "code",
   "execution_count": 35,
   "id": "0f5b5e66",
   "metadata": {},
   "outputs": [
    {
     "name": "stdout",
     "output_type": "stream",
     "text": [
      "Edge level 3 : [2, 4, 6, 8, 10, 12, 14, 16]\n",
      "Length :  8\n",
      "Node level 3 : [2, 4, 6, 8, 10, 12, 14, 16]\n"
     ]
    }
   ],
   "source": [
    "Edge_level_3=[]\n",
    "for i in range(2,17,2):\n",
    "    Edge_level_3.append(i)\n",
    "    #print(i, end=', ')\n",
    "    \n",
    "print('Edge level 3 :',Edge_level_3)\n",
    "print('Length : ',len(Edge_level_3))\n",
    "L3_Nodes = Edge_level_3.copy()\n",
    "print('Node level 3 :',L3_Nodes)"
   ]
  },
  {
   "cell_type": "code",
   "execution_count": 27,
   "id": "a92d2555",
   "metadata": {},
   "outputs": [
    {
     "name": "stdout",
     "output_type": "stream",
     "text": [
      "Edge level 2 : [1, 3, 5, 7]\n",
      "Length :  4\n"
     ]
    }
   ],
   "source": [
    "Edge_level_2=[]\n",
    "for i in range(1,8,2):\n",
    "    Edge_level_2.append(i)\n",
    "\n",
    "print('Edge level 2 :',Edge_level_2)    \n",
    "print('Length : ',len(Edge_level_2))"
   ]
  },
  {
   "cell_type": "code",
   "execution_count": 13,
   "id": "6d13aff1",
   "metadata": {},
   "outputs": [
    {
     "name": "stdout",
     "output_type": "stream",
     "text": [
      "Node level 2 :  [7, 17, 27, 37]\n",
      "Length :  4\n"
     ]
    }
   ],
   "source": [
    "L2_Nodes=[]\n",
    "\n",
    "\n",
    "def return_value(edge_list, digit):\n",
    "    return edge_list[digit]\n",
    "    \n",
    "\n",
    "p=0\n",
    "for x,y in zip(*[iter(Edge_level_3)]*2):\n",
    "   \n",
    "    i = return_value(Edge_level_2,p)\n",
    "    L2_Nodes.append(x+y+i)\n",
    "    p+=1\n",
    "    \n",
    "print('Node level 2 : ',L2_Nodes)\n",
    "print('Length : ',len(L2_Nodes))\n",
    "\n"
   ]
  },
  {
   "cell_type": "code",
   "execution_count": 17,
   "id": "9f038ae4",
   "metadata": {},
   "outputs": [
    {
     "name": "stdout",
     "output_type": "stream",
     "text": [
      "Edge level 1 : [18, 20]\n",
      "Length :  2\n"
     ]
    }
   ],
   "source": [
    "Edge_level_1=[]\n",
    "for i in range(18,21,2):\n",
    "    Edge_level_1.append(i)\n",
    "    \n",
    "    \n",
    "print('Edge level 1 :',Edge_level_1)\n",
    "print('Length : ',len(Edge_level_1))"
   ]
  },
  {
   "cell_type": "code",
   "execution_count": 30,
   "id": "9cfac61c",
   "metadata": {},
   "outputs": [
    {
     "name": "stdout",
     "output_type": "stream",
     "text": [
      "Node level 1 :  [22, 32]\n",
      "Length :  2\n"
     ]
    }
   ],
   "source": [
    "L1_Nodes=[]\n",
    "\n",
    "def return_value(edge_list, digit):\n",
    "    return edge_list[digit]\n",
    "\n",
    "\n",
    "q=0\n",
    "for x,y in zip(*[iter(Edge_level_2)]*2):\n",
    "    i = return_value(Edge_level_1,q)\n",
    "    L1_Nodes.append(x+y+i)\n",
    "    q+=1\n",
    "    \n",
    "print('Node level 1 : ',L1_Nodes)\n",
    "print('Length : ',len(L1_Nodes))"
   ]
  },
  {
   "cell_type": "code",
   "execution_count": 33,
   "id": "98984f4d",
   "metadata": {},
   "outputs": [
    {
     "name": "stdout",
     "output_type": "stream",
     "text": [
      "Root Node  :  38\n"
     ]
    }
   ],
   "source": [
    "def get_root_node(edge):\n",
    "    root_node=0\n",
    "    for i in edge:\n",
    "        root_node += i\n",
    "    print('Root Node  : ',root_node)\n",
    "    \n",
    "get_root_node(Edge_level_1)"
   ]
  },
  {
   "cell_type": "code",
   "execution_count": null,
   "id": "824277b2",
   "metadata": {},
   "outputs": [],
   "source": []
  }
 ],
 "metadata": {
  "kernelspec": {
   "display_name": "Python 3 (ipykernel)",
   "language": "python",
   "name": "python3"
  },
  "language_info": {
   "codemirror_mode": {
    "name": "ipython",
    "version": 3
   },
   "file_extension": ".py",
   "mimetype": "text/x-python",
   "name": "python",
   "nbconvert_exporter": "python",
   "pygments_lexer": "ipython3",
   "version": "3.10.6"
  }
 },
 "nbformat": 4,
 "nbformat_minor": 5
}
