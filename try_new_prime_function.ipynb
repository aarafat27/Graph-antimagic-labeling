{
 "cells": [
  {
   "cell_type": "code",
   "execution_count": 1,
   "id": "727720d3",
   "metadata": {},
   "outputs": [],
   "source": [
    "def sieve_of_eratosthenes(l):\n",
    "    if l <= 0:\n",
    "        return 0\n",
    "\n",
    "\n",
    "    limit = (2 ** l) * 2 - 2\n",
    "    is_prime = [True] * (limit + 1)\n",
    "    is_prime[0] = is_prime[1] = False\n",
    "    primes = []\n",
    "\n",
    "    num_primes_needed = limit\n",
    "    for num in range(2, limit):\n",
    "        if is_prime[num]:\n",
    "            primes.append(num)\n",
    "            num_primes_needed -= 1\n",
    "            if num_primes_needed == 0:\n",
    "                break\n",
    "            for multiple in range(num * num, limit, num):\n",
    "                is_prime[multiple] = False\n",
    "\n",
    "    return primes\n"
   ]
  },
  {
   "cell_type": "code",
   "execution_count": 17,
   "id": "18d628ef",
   "metadata": {},
   "outputs": [],
   "source": [
    "edgesss = sieve_of_eratosthenes(4)"
   ]
  },
  {
   "cell_type": "code",
   "execution_count": 18,
   "id": "5031f3b7",
   "metadata": {},
   "outputs": [
    {
     "name": "stdout",
     "output_type": "stream",
     "text": [
      "[2, 3, 5, 7, 11, 13, 17, 19, 23, 29]\n"
     ]
    }
   ],
   "source": [
    "print(edgesss)"
   ]
  },
  {
   "cell_type": "code",
   "execution_count": 19,
   "id": "fffc4987",
   "metadata": {},
   "outputs": [
    {
     "name": "stdout",
     "output_type": "stream",
     "text": [
      "10\n"
     ]
    }
   ],
   "source": [
    "print(len(edgesss))"
   ]
  },
  {
   "cell_type": "code",
   "execution_count": 42,
   "id": "438714c9",
   "metadata": {},
   "outputs": [
    {
     "name": "stdout",
     "output_type": "stream",
     "text": [
      "Total Prime Numbers: 8388606\n",
      "Time taken: 66.95360398292542 seconds\n"
     ]
    }
   ],
   "source": [
    "def generate_primes(limit):\n",
    "    primes = []\n",
    "    is_prime = [True] * (limit + 1)\n",
    "    is_prime[0] = is_prime[1] = False\n",
    "    \n",
    "    num = 2\n",
    "    while len(primes) < 8388606:\n",
    "        if is_prime[num]:\n",
    "            primes.append(num)\n",
    "            for multiple in range(num * num, limit + 1, num):\n",
    "                is_prime[multiple] = False\n",
    "        num += 1\n",
    "    \n",
    "    return primes\n",
    "\n",
    "import time\n",
    "\n",
    "start_time = time.time()\n",
    "prime_numbers = generate_primes(8388606 * 20)  # Adjust the limit as needed\n",
    "end_time = time.time()\n",
    "\n",
    "print(\"Total Prime Numbers:\", len(prime_numbers))\n",
    "print(\"Time taken:\", end_time - start_time, \"seconds\")\n"
   ]
  },
  {
   "cell_type": "code",
   "execution_count": null,
   "id": "3255b5f2",
   "metadata": {},
   "outputs": [],
   "source": [
    "def generate_primes(limit):\n",
    "    primes = []\n",
    "    is_prime = [True] * (limit + 1)\n",
    "    is_prime[0] = is_prime[1] = False\n",
    "    \n",
    "    num = 2\n",
    "    while len(primes) < 8388607:\n",
    "        if is_prime[num]:\n",
    "            primes.append(num)\n",
    "            for multiple in range(num * num, limit + 1, num):\n",
    "                is_prime[multiple] = False\n",
    "        num += 1\n",
    "    \n",
    "    return primes\n",
    "\n",
    "import time\n",
    "\n",
    "start_time = time.time()\n",
    "prime_numbers = generate_primes(8388607 * 20)  # Adjust the limit as needed\n",
    "end_time = time.time()\n",
    "\n",
    "print(\"Total Prime Numbers:\", len(prime_numbers))\n",
    "print(\"Time taken:\", end_time - start_time, \"seconds\")\n"
   ]
  },
  {
   "cell_type": "code",
   "execution_count": 33,
   "id": "b837568d",
   "metadata": {},
   "outputs": [],
   "source": [
    "def remove_first_n(lst, n):\n",
    "    # print(\"***********************N:\", n)\n",
    "    if len(lst) != 2:\n",
    "        return lst[n:]\n",
    "    else:\n",
    "        return lst"
   ]
  },
  {
   "cell_type": "code",
   "execution_count": 34,
   "id": "d5b66023",
   "metadata": {},
   "outputs": [],
   "source": [
    "def last_level_node(lst, n):\n",
    "    p = 2**n\n",
    "    new_edge_list = remove_first_n(lst, p)\n",
    "    return new_edge_list, lst[:p], lst[:p]"
   ]
  },
  {
   "cell_type": "code",
   "execution_count": 35,
   "id": "851c5d2a",
   "metadata": {},
   "outputs": [],
   "source": [
    "def generate_edge(lst, n):\n",
    "    p = 2**n\n",
    "    new_edge_list = remove_first_n(lst, p)\n",
    "    return new_edge_list, lst[:p]"
   ]
  },
  {
   "cell_type": "code",
   "execution_count": 36,
   "id": "55acbc39",
   "metadata": {},
   "outputs": [],
   "source": [
    "def Return_Single_Value(upper_edges, index):\n",
    "    return upper_edges[index]"
   ]
  },
  {
   "cell_type": "code",
   "execution_count": 37,
   "id": "7597e8ca",
   "metadata": {},
   "outputs": [],
   "source": [
    "def generate_node(upper_edges, lower_edges):\n",
    "    nodes = []\n",
    "    p = 0\n",
    "    for x,y in zip(*[iter(lower_edges)]*2):\n",
    "   \n",
    "        i = Return_Single_Value(upper_edges,p)\n",
    "        nodes.append(x+y+i)\n",
    "        p += 1\n",
    "    return nodes\n",
    "    "
   ]
  },
  {
   "cell_type": "code",
   "execution_count": 38,
   "id": "3748966c",
   "metadata": {},
   "outputs": [],
   "source": [
    "def get_root_node(edge_list):\n",
    "    root_node=0\n",
    "    for i in edge_list:\n",
    "        root_node += i\n",
    "    return root_node"
   ]
  },
  {
   "cell_type": "code",
   "execution_count": 39,
   "id": "e9d138aa",
   "metadata": {},
   "outputs": [],
   "source": [
    "all_nodes = []\n",
    "\n",
    "def perfectBinaryTree(lev):\n",
    "    #print('Enter level: ')\n",
    "    #level = input()\n",
    "    #level = int(level)\n",
    "    \n",
    "    all_nodes.clear()\n",
    "    print(\"Initial node list size : \", len(all_nodes))\n",
    "    print('___________________________________________________________________')\n",
    "    \n",
    "    level = lev \n",
    "    latest_lower_edge_list = []\n",
    "    edges = prime_list\n",
    "    # print(\"All Edges: \",edges)\n",
    "    # print(\"Number of Edges: \",len(edges))\n",
    "    # print('======================================================================================')\n",
    "    \n",
    "    if level <0 :\n",
    "        print(\"Enter a positive integer!\")\n",
    "        return 0\n",
    "    if level == 0:\n",
    "        print(\"Root node: 2\")\n",
    "        all_nodes.append(2)\n",
    "        return 0\n",
    "    else:\n",
    "        new_edges, latest_lower_edge_list, latest_node_list = last_level_node(edges, level)\n",
    "        all_nodes.extend(latest_lower_edge_list)\n",
    "        print(\"Level -\",level,':')\n",
    "        #print(\"Upper Edge: \",latest_lower_edge_list)\n",
    "        #print(\"Node: \",latest_node_list)\n",
    "        #print(\"Edges left: \",new_edges)\n",
    "        print('___________________________________________________________________')\n",
    "        p = level-1\n",
    "        while p >= 0:\n",
    "            if p > 0:\n",
    "                print(\"Level -\",p,':')\n",
    "                new_edges,latest_upper_edge_list = generate_edge(new_edges, p)\n",
    "                # print(\"Upper Edges: \", latest_upper_edge_list)\n",
    "                nodes = generate_node(latest_upper_edge_list, latest_lower_edge_list)\n",
    "                all_nodes.extend(nodes)\n",
    "                print(\"Nodes: \", nodes[:5])\n",
    "                #print(\"Edges left: \",new_edges)\n",
    "                latest_lower_edge_list = latest_upper_edge_list\n",
    "                p -= 1\n",
    "                print('___________________________________________________________________')\n",
    "                continue\n",
    "\n",
    "            if p == 0:\n",
    "                root_node = get_root_node(new_edges)\n",
    "                print('Root Node  : ',root_node)\n",
    "                print('___________________________________________________________________')\n",
    "                all_nodes.append(root_node)\n",
    "                break\n",
    "\n",
    "\n",
    "                \n",
    "    \n",
    "    print(\"Number of initial nodes : \", len(all_nodes))\n",
    "    print(\"Number of unique  nodes : \",len(set(all_nodes)))\n",
    "    #print('=====================================')\n",
    "    "
   ]
  },
  {
   "cell_type": "code",
   "execution_count": 40,
   "id": "390c4132",
   "metadata": {},
   "outputs": [
    {
     "name": "stdout",
     "output_type": "stream",
     "text": [
      "Initial node list size :  0\n",
      "___________________________________________________________________\n",
      "Level - 5 :\n",
      "___________________________________________________________________\n",
      "Level - 4 :\n",
      "Nodes:  [142, 151, 173, 187, 209]\n",
      "___________________________________________________________________\n",
      "Level - 3 :\n",
      "Nodes:  [503, 529, 553, 579, 601]\n",
      "___________________________________________________________________\n",
      "Level - 2 :\n",
      "Nodes:  [725, 743, 769, 801]\n",
      "___________________________________________________________________\n",
      "Level - 1 :\n",
      "Nodes:  [823, 851]\n",
      "___________________________________________________________________\n",
      "Root Node  :  576\n",
      "___________________________________________________________________\n",
      "Number of initial nodes :  63\n",
      "Number of unique  nodes :  63\n"
     ]
    }
   ],
   "source": [
    "perfectBinaryTree(5)"
   ]
  },
  {
   "cell_type": "code",
   "execution_count": null,
   "id": "e2a47062",
   "metadata": {},
   "outputs": [],
   "source": []
  }
 ],
 "metadata": {
  "kernelspec": {
   "display_name": "Python 3 (ipykernel)",
   "language": "python",
   "name": "python3"
  },
  "language_info": {
   "codemirror_mode": {
    "name": "ipython",
    "version": 3
   },
   "file_extension": ".py",
   "mimetype": "text/x-python",
   "name": "python",
   "nbconvert_exporter": "python",
   "pygments_lexer": "ipython3",
   "version": "3.10.6"
  }
 },
 "nbformat": 4,
 "nbformat_minor": 5
}
