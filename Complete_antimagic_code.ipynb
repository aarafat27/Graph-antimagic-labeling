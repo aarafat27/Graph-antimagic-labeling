{
 "cells": [
  {
   "cell_type": "code",
   "execution_count": 1,
   "id": "03f7fc29",
   "metadata": {},
   "outputs": [],
   "source": [
    "def generate_primes(l):\n",
    "    def is_prime(n):\n",
    "        if n < 2:\n",
    "            return False\n",
    "        for i in range(2, int(n ** 0.5) + 1):\n",
    "            if n % i == 0:\n",
    "                return False\n",
    "        return True\n",
    "\n",
    "    primes = []\n",
    "    n = 0\n",
    "    while len(primes) < ((2**l)*2)-2:\n",
    "        if is_prime(n):\n",
    "            primes.append(n)\n",
    "        n += 1\n",
    "    return primes\n",
    "\n"
   ]
  },
  {
   "cell_type": "code",
   "execution_count": 2,
   "id": "964b262a",
   "metadata": {},
   "outputs": [],
   "source": [
    "def remove_first_n(lst, n):\n",
    "    # print(\"***********************N:\", n)\n",
    "    if len(lst) != 2:\n",
    "        return lst[n:]\n",
    "    else:\n",
    "        return lst"
   ]
  },
  {
   "cell_type": "code",
   "execution_count": 3,
   "id": "ce84595e",
   "metadata": {},
   "outputs": [],
   "source": [
    "def last_level_node(lst, n):\n",
    "    p = 2**n\n",
    "    new_edge_list = remove_first_n(lst, p)\n",
    "    return new_edge_list, lst[:p], lst[:p]"
   ]
  },
  {
   "cell_type": "code",
   "execution_count": 4,
   "id": "c8c02c0e",
   "metadata": {},
   "outputs": [],
   "source": [
    "def generate_edge(lst, n):\n",
    "    p = 2**n\n",
    "    new_edge_list = remove_first_n(lst, p)\n",
    "    return new_edge_list, lst[:p]"
   ]
  },
  {
   "cell_type": "code",
   "execution_count": 5,
   "id": "7ceb44ae",
   "metadata": {},
   "outputs": [],
   "source": [
    "def Return_Single_Value(upper_edges, index):\n",
    "    return upper_edges[index]"
   ]
  },
  {
   "cell_type": "code",
   "execution_count": 6,
   "id": "d103e9a2",
   "metadata": {},
   "outputs": [],
   "source": [
    "def generate_node(upper_edges, lower_edges):\n",
    "    nodes = []\n",
    "    p = 0\n",
    "    for x,y in zip(*[iter(lower_edges)]*2):\n",
    "   \n",
    "        i = Return_Single_Value(upper_edges,p)\n",
    "        nodes.append(x+y+i)\n",
    "        p += 1\n",
    "    return nodes\n",
    "    "
   ]
  },
  {
   "cell_type": "code",
   "execution_count": 7,
   "id": "bf34911e",
   "metadata": {},
   "outputs": [],
   "source": [
    "def get_root_node(edge_list):\n",
    "    root_node=0\n",
    "    for i in edge_list:\n",
    "        root_node += i\n",
    "    return root_node"
   ]
  },
  {
   "cell_type": "code",
   "execution_count": 8,
   "id": "5d54f54c",
   "metadata": {},
   "outputs": [],
   "source": [
    "def perfectBinaryTree():\n",
    "    print('Enter level: ')\n",
    "    level = input()\n",
    "    level = int(level)\n",
    "    \n",
    "    latest_lower_edge_list = []\n",
    "    edges = generate_primes(level)\n",
    "    print(\"All Edges: \",edges)\n",
    "    print(\"Number of Edges: \",len(edges))\n",
    "    print('======================================================================================')\n",
    "    \n",
    "    if level <0 :\n",
    "        print(\"Enter a positive integer!\")\n",
    "        return 0\n",
    "    if level == 0:\n",
    "        print(\"Root node: 2\")\n",
    "        return 0\n",
    "    else:\n",
    "        new_edges, latest_lower_edge_list, latest_node_list = last_level_node(edges, level)\n",
    "        print(\"Level -\",level,':')\n",
    "        print(\"Upper Edge: \",latest_lower_edge_list)\n",
    "        print(\"Node: \",latest_node_list)\n",
    "        print(\"Edges left: \",new_edges)\n",
    "        print('======================================================================================')\n",
    "        p = level-1\n",
    "        while p >= 0:\n",
    "            if p > 0:\n",
    "                print(\"Level -\",p,':')\n",
    "                new_edges,latest_upper_edge_list = generate_edge(new_edges, p)\n",
    "                print(\"Upper Edges: \", latest_upper_edge_list)\n",
    "                nodes = generate_node(latest_upper_edge_list, latest_lower_edge_list)\n",
    "                print(\"Nodes: \", nodes)\n",
    "                print(\"Edges left: \",new_edges)\n",
    "                latest_lower_edge_list = latest_upper_edge_list\n",
    "                p -= 1\n",
    "                print('======================================================================================')\n",
    "                continue\n",
    "\n",
    "            if p == 0:\n",
    "                root_node = get_root_node(new_edges)\n",
    "                print('Root Node  : ',root_node)\n",
    "                break\n",
    "\n"
   ]
  },
  {
   "cell_type": "code",
   "execution_count": 18,
   "id": "f559c305",
   "metadata": {},
   "outputs": [
    {
     "name": "stdout",
     "output_type": "stream",
     "text": [
      "Enter level: \n",
      "2\n",
      "All Edges:  [2, 3, 5, 7, 11, 13]\n",
      "Number of Edges:  6\n",
      "======================================================================================\n",
      "Level - 2 :\n",
      "Upper Edge:  [2, 3, 5, 7]\n",
      "Node:  [2, 3, 5, 7]\n",
      "Edges left:  [11, 13]\n",
      "======================================================================================\n",
      "Level - 1 :\n",
      "Upper Edges:  [11, 13]\n",
      "Nodes:  [16, 25]\n",
      "Edges left:  [11, 13]\n",
      "======================================================================================\n",
      "Root Node  :  24\n"
     ]
    }
   ],
   "source": [
    "perfectBinaryTree()"
   ]
  },
  {
   "cell_type": "code",
   "execution_count": 19,
   "id": "d4c5252a",
   "metadata": {},
   "outputs": [
    {
     "name": "stdout",
     "output_type": "stream",
     "text": [
      "Enter level: \n",
      "1\n",
      "All Edges:  [2, 3]\n",
      "Number of Edges:  2\n",
      "======================================================================================\n",
      "Level - 1 :\n",
      "Upper Edge:  [2, 3]\n",
      "Node:  [2, 3]\n",
      "Edges left:  [2, 3]\n",
      "======================================================================================\n",
      "Root Node  :  5\n"
     ]
    }
   ],
   "source": [
    "perfectBinaryTree()"
   ]
  },
  {
   "cell_type": "code",
   "execution_count": 11,
   "id": "59b5dd1e",
   "metadata": {},
   "outputs": [
    {
     "name": "stdout",
     "output_type": "stream",
     "text": [
      "Enter level: \n",
      "2\n",
      "All Edges:  [2, 3, 5, 7, 11, 13]\n",
      "Number of Edges:  6\n",
      "======================================================================================\n",
      "Level - 2 :\n",
      "Upper Edge:  [2, 3, 5, 7]\n",
      "Node:  [2, 3, 5, 7]\n",
      "Edges left:  [11, 13]\n",
      "======================================================================================\n",
      "Level - 1 :\n",
      "Upper Edges:  [11, 13]\n",
      "Nodes:  [16, 25]\n",
      "Edges left:  [11, 13]\n",
      "======================================================================================\n",
      "Root Node  :  24\n"
     ]
    }
   ],
   "source": [
    "perfectBinaryTree()"
   ]
  },
  {
   "cell_type": "code",
   "execution_count": 12,
   "id": "07582a20",
   "metadata": {},
   "outputs": [
    {
     "name": "stdout",
     "output_type": "stream",
     "text": [
      "Enter level: \n",
      "0\n",
      "All Edges:  []\n",
      "Number of Edges:  0\n",
      "======================================================================================\n",
      "Root node: 2\n"
     ]
    },
    {
     "data": {
      "text/plain": [
       "0"
      ]
     },
     "execution_count": 12,
     "metadata": {},
     "output_type": "execute_result"
    }
   ],
   "source": [
    "perfectBinaryTree()"
   ]
  },
  {
   "cell_type": "code",
   "execution_count": 9,
   "id": "e9792b39",
   "metadata": {},
   "outputs": [],
   "source": [
    "all_nodes = []\n",
    "\n",
    "def pbt(l):\n",
    "    \n",
    "    all_nodes.clear()\n",
    "    print(\"Initial node list size : \", len(all_nodes))\n",
    "    \n",
    "    latest_lower_edge_list = []\n",
    "    edges = generate_primes(l)\n",
    "    \n",
    "    if l <0 :\n",
    "        print(\"Enter a positive integer!\")\n",
    "    if l == 0:\n",
    "        all_nodes.append(2)\n",
    "    else:\n",
    "        new_edges, latest_lower_edge_list, latest_node_list = last_level_node(edges, l)\n",
    "        all_nodes.extend(latest_lower_edge_list)\n",
    "        p = l-1\n",
    "        while p >= 0:\n",
    "            if p > 0:\n",
    "                new_edges,latest_upper_edge_list = generate_edge(new_edges, p)\n",
    "                nodes = generate_node(latest_upper_edge_list, latest_lower_edge_list)\n",
    "                all_nodes.extend(nodes)\n",
    "                latest_lower_edge_list = latest_upper_edge_list\n",
    "                p -= 1\n",
    "                continue\n",
    "            if p == 0:\n",
    "                root_node = get_root_node(new_edges)\n",
    "                all_nodes.append(root_node)\n",
    "                break\n",
    "\n",
    "\n",
    "\n",
    "\n",
    "    print(\"Number of initial nodes : \", len(all_nodes))\n",
    "    print(\"Number of unique  nodes : \",len(set(all_nodes)))\n",
    "    #print('=====================================')\n",
    "    "
   ]
  },
  {
   "cell_type": "code",
   "execution_count": 23,
   "id": "b936c3c3",
   "metadata": {},
   "outputs": [
    {
     "name": "stdout",
     "output_type": "stream",
     "text": [
      "______________________\n",
      "For graph of level- 0\n",
      "----------------------\n",
      "Initial node list size :  0\n",
      "Number of initial nodes :  1\n",
      "Number of unique  nodes :  1\n",
      "\n",
      "\n",
      "______________________\n",
      "For graph of level- 1\n",
      "----------------------\n",
      "Initial node list size :  0\n",
      "Number of initial nodes :  3\n",
      "Number of unique  nodes :  3\n",
      "\n",
      "\n",
      "______________________\n",
      "For graph of level- 2\n",
      "----------------------\n",
      "Initial node list size :  0\n",
      "Number of initial nodes :  7\n",
      "Number of unique  nodes :  7\n",
      "\n",
      "\n",
      "______________________\n",
      "For graph of level- 3\n",
      "----------------------\n",
      "Initial node list size :  0\n",
      "Number of initial nodes :  15\n",
      "Number of unique  nodes :  15\n",
      "\n",
      "\n",
      "______________________\n",
      "For graph of level- 4\n",
      "----------------------\n",
      "Initial node list size :  0\n",
      "Number of initial nodes :  31\n",
      "Number of unique  nodes :  31\n",
      "\n",
      "\n"
     ]
    }
   ],
   "source": [
    "for i in range(0,5):\n",
    "    print('______________________')\n",
    "    print(\"For graph of level-\",i)\n",
    "    print('----------------------')\n",
    "    pbt(i)\n",
    "    print('\\n')"
   ]
  },
  {
   "cell_type": "code",
   "execution_count": 15,
   "id": "0feb2a28",
   "metadata": {},
   "outputs": [
    {
     "name": "stdout",
     "output_type": "stream",
     "text": [
      "Enter level: \n",
      "2\n",
      "All Edges:  [2, 3, 5, 7, 11, 13]\n",
      "Number of Edges:  6\n",
      "======================================================================================\n",
      "Level - 2 :\n",
      "Upper Edge:  [2, 3, 5, 7]\n",
      "Node:  [2, 3, 5, 7]\n",
      "Edges left:  [11, 13]\n",
      "======================================================================================\n",
      "Level - 1 :\n",
      "Upper Edges:  [11, 13]\n",
      "Nodes:  [16, 25]\n",
      "Edges left:  [11, 13]\n",
      "======================================================================================\n",
      "Root Node  :  24\n"
     ]
    }
   ],
   "source": [
    "perfectBinaryTree()"
   ]
  },
  {
   "cell_type": "code",
   "execution_count": 16,
   "id": "e24e0e9c",
   "metadata": {},
   "outputs": [
    {
     "name": "stdout",
     "output_type": "stream",
     "text": [
      "______________________\n",
      "For graph of level- 0\n",
      "----------------------\n",
      "Initial node list size :  0\n",
      "Number of initial nodes :  1\n",
      "Number of unique  nodes :  1\n",
      "\n",
      "\n",
      "______________________\n",
      "For graph of level- 1\n",
      "----------------------\n",
      "Initial node list size :  0\n",
      "Number of initial nodes :  3\n",
      "Number of unique  nodes :  3\n",
      "\n",
      "\n",
      "______________________\n",
      "For graph of level- 2\n",
      "----------------------\n",
      "Initial node list size :  0\n",
      "Number of initial nodes :  7\n",
      "Number of unique  nodes :  7\n",
      "\n",
      "\n",
      "______________________\n",
      "For graph of level- 3\n",
      "----------------------\n",
      "Initial node list size :  0\n",
      "Number of initial nodes :  15\n",
      "Number of unique  nodes :  15\n",
      "\n",
      "\n",
      "______________________\n",
      "For graph of level- 4\n",
      "----------------------\n",
      "Initial node list size :  0\n",
      "Number of initial nodes :  31\n",
      "Number of unique  nodes :  31\n",
      "\n",
      "\n",
      "______________________\n",
      "For graph of level- 5\n",
      "----------------------\n",
      "Initial node list size :  0\n",
      "Number of initial nodes :  63\n",
      "Number of unique  nodes :  63\n",
      "\n",
      "\n",
      "______________________\n",
      "For graph of level- 6\n",
      "----------------------\n",
      "Initial node list size :  0\n",
      "Number of initial nodes :  127\n",
      "Number of unique  nodes :  127\n",
      "\n",
      "\n",
      "______________________\n",
      "For graph of level- 7\n",
      "----------------------\n",
      "Initial node list size :  0\n",
      "Number of initial nodes :  255\n",
      "Number of unique  nodes :  255\n",
      "\n",
      "\n",
      "______________________\n",
      "For graph of level- 8\n",
      "----------------------\n",
      "Initial node list size :  0\n",
      "Number of initial nodes :  511\n",
      "Number of unique  nodes :  511\n",
      "\n",
      "\n",
      "______________________\n",
      "For graph of level- 9\n",
      "----------------------\n",
      "Initial node list size :  0\n",
      "Number of initial nodes :  1023\n",
      "Number of unique  nodes :  1023\n",
      "\n",
      "\n",
      "______________________\n",
      "For graph of level- 10\n",
      "----------------------\n",
      "Initial node list size :  0\n",
      "Number of initial nodes :  2047\n",
      "Number of unique  nodes :  2047\n",
      "\n",
      "\n",
      "______________________\n",
      "For graph of level- 11\n",
      "----------------------\n",
      "Initial node list size :  0\n",
      "Number of initial nodes :  4095\n",
      "Number of unique  nodes :  4095\n",
      "\n",
      "\n",
      "______________________\n",
      "For graph of level- 12\n",
      "----------------------\n",
      "Initial node list size :  0\n",
      "Number of initial nodes :  8191\n",
      "Number of unique  nodes :  8191\n",
      "\n",
      "\n",
      "______________________\n",
      "For graph of level- 13\n",
      "----------------------\n",
      "Initial node list size :  0\n",
      "Number of initial nodes :  16383\n",
      "Number of unique  nodes :  16383\n",
      "\n",
      "\n",
      "______________________\n",
      "For graph of level- 14\n",
      "----------------------\n",
      "Initial node list size :  0\n",
      "Number of initial nodes :  32767\n",
      "Number of unique  nodes :  32767\n",
      "\n",
      "\n",
      "______________________\n",
      "For graph of level- 15\n",
      "----------------------\n",
      "Initial node list size :  0\n",
      "Number of initial nodes :  65535\n",
      "Number of unique  nodes :  65535\n",
      "\n",
      "\n"
     ]
    }
   ],
   "source": [
    "for i in range(0,16):\n",
    "    print('______________________')\n",
    "    print(\"For graph of level-\",i)\n",
    "    print('----------------------')\n",
    "    pbt(i)\n",
    "    print('\\n')"
   ]
  },
  {
   "cell_type": "code",
   "execution_count": 10,
   "id": "9acd8c13",
   "metadata": {},
   "outputs": [
    {
     "name": "stdout",
     "output_type": "stream",
     "text": [
      "______________________\n",
      "For graph of level- 1\n",
      "----------------------\n",
      "Initial node list size :  0\n",
      "Number of initial nodes :  3\n",
      "Number of unique  nodes :  3\n",
      "\n",
      "\n",
      "______________________\n",
      "For graph of level- 2\n",
      "----------------------\n",
      "Initial node list size :  0\n",
      "Number of initial nodes :  7\n",
      "Number of unique  nodes :  7\n",
      "\n",
      "\n",
      "______________________\n",
      "For graph of level- 3\n",
      "----------------------\n",
      "Initial node list size :  0\n",
      "Number of initial nodes :  15\n",
      "Number of unique  nodes :  15\n",
      "\n",
      "\n",
      "______________________\n",
      "For graph of level- 4\n",
      "----------------------\n",
      "Initial node list size :  0\n",
      "Number of initial nodes :  31\n",
      "Number of unique  nodes :  31\n",
      "\n",
      "\n",
      "______________________\n",
      "For graph of level- 5\n",
      "----------------------\n",
      "Initial node list size :  0\n",
      "Number of initial nodes :  63\n",
      "Number of unique  nodes :  63\n",
      "\n",
      "\n",
      "______________________\n",
      "For graph of level- 6\n",
      "----------------------\n",
      "Initial node list size :  0\n",
      "Number of initial nodes :  127\n",
      "Number of unique  nodes :  127\n",
      "\n",
      "\n"
     ]
    }
   ],
   "source": [
    "for i in range(1,7):\n",
    "    print('______________________')\n",
    "    print(\"For graph of level-\",i)\n",
    "    print('----------------------')\n",
    "    pbt(i)\n",
    "    print('\\n')"
   ]
  },
  {
   "cell_type": "code",
   "execution_count": null,
   "id": "c6deca31",
   "metadata": {},
   "outputs": [],
   "source": [
    " pbt(22)"
   ]
  },
  {
   "cell_type": "code",
   "execution_count": null,
   "id": "d2e289a4",
   "metadata": {},
   "outputs": [],
   "source": []
  }
 ],
 "metadata": {
  "kernelspec": {
   "display_name": "Python 3 (ipykernel)",
   "language": "python",
   "name": "python3"
  },
  "language_info": {
   "codemirror_mode": {
    "name": "ipython",
    "version": 3
   },
   "file_extension": ".py",
   "mimetype": "text/x-python",
   "name": "python",
   "nbconvert_exporter": "python",
   "pygments_lexer": "ipython3",
   "version": "3.12.2"
  },
  "widgets": {
   "application/vnd.jupyter.widget-state+json": {
    "state": {},
    "version_major": 2,
    "version_minor": 0
   }
  }
 },
 "nbformat": 4,
 "nbformat_minor": 5
}
