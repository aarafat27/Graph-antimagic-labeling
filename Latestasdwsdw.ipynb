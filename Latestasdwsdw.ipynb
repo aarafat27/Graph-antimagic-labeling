{
 "cells": [
  {
   "cell_type": "code",
   "execution_count": 1,
   "id": "9875190c",
   "metadata": {},
   "outputs": [],
   "source": [
    "def Get_Even_Last_Level(x):\n",
    "    Last_Lebel_Edge = []\n",
    "    Last_Lebel_Nodes = []\n",
    "    limit = 2 * (2**x)+1\n",
    "    for i in range(2,limit,2):\n",
    "        Last_Lebel_Edge.append(i)\n",
    "    print('Last Edge level :',Last_Lebel_Edge)\n",
    "    print('Length : ',len(Last_Lebel_Edge))\n",
    "    Last_Lebel_Nodes = Last_Lebel_Edge.copy()\n",
    "    print('Last Node level :',Last_Lebel_Nodes)\n",
    "    last_level_last_edge = Last_Lebel_Edge[-1]\n",
    "\n",
    "    return last_level_last_edge,Last_Lebel_Edge"
   ]
  },
  {
   "cell_type": "code",
   "execution_count": 2,
   "id": "da2c343a",
   "metadata": {},
   "outputs": [],
   "source": [
    "def Get_Odd_Last_Level(x):   \n",
    "    last_Odd_Lebel_Edges = []\n",
    "    limit = 2 * (2**x)+1\n",
    "    for i in range(1,limit,2):\n",
    "        last_Odd_Lebel_Edges.append(i)\n",
    "        \n",
    "    print('Odd_Lebel_Edge : ',last_Odd_Lebel_Edges)   \n",
    "    last_odd_edge = last_Odd_Lebel_Edges[-1]\n",
    "    return last_odd_edge, last_Odd_Lebel_Edges"
   ]
  },
  {
   "cell_type": "code",
   "execution_count": 3,
   "id": "d5af54d0",
   "metadata": {},
   "outputs": [],
   "source": [
    "def Return_Single_Value(higher_edge_list, index):\n",
    "    return higher_edge_list[index]"
   ]
  },
  {
   "cell_type": "code",
   "execution_count": 4,
   "id": "a1a309e0",
   "metadata": {},
   "outputs": [],
   "source": [
    "def Get_Odd_Level_Edge(Last_Lebel_Edge,x):\n",
    "    limit_start = Last_Lebel_Edge + 2\n",
    "    limit_end = Last_Lebel_Edge + (2**x)+3\n",
    "    Odd_Lebel_Edge = []\n",
    "    for i in range(limit_start,limit_end,2):\n",
    "        Odd_Lebel_Edge.append(i)\n",
    "        \n",
    "    print('Even_Lebel_Edge : ',Odd_Lebel_Edge)   \n",
    "    last_odd_edge = Odd_Lebel_Edge[-1]\n",
    "    return last_odd_edge, Odd_Lebel_Edge"
   ]
  },
  {
   "cell_type": "code",
   "execution_count": 5,
   "id": "6cfad496",
   "metadata": {},
   "outputs": [],
   "source": [
    "def Get_Odd_Level(lower_edge_list, higher_edge_list):\n",
    "    odd_nodes=[]\n",
    "    p=0\n",
    "    for x,y in zip(*[iter(lower_edge_list)]*2):\n",
    "   \n",
    "        i = Return_Single_Value(higher_edge_list,p)\n",
    "        odd_nodes.append(x+y+i)\n",
    "        p+=1\n",
    "    \n",
    "    print('Node level  : ',odd_nodes)\n",
    "    print('Length : ',len(odd_nodes))"
   ]
  },
  {
   "cell_type": "code",
   "execution_count": 6,
   "id": "7a4b0518",
   "metadata": {},
   "outputs": [],
   "source": [
    "def Get_Even_Level_Edge(Last_Lebel_Edge,x):\n",
    "    limit_start = Last_Lebel_Edge + 2\n",
    "    limit_end = Last_Lebel_Edge + (2**x)+3\n",
    "    Even_Lebel_Edge = []\n",
    "    for i in range(limit_start,limit_end,2):\n",
    "        Even_Lebel_Edge.append(i)\n",
    "        \n",
    "    print('Even_Lebel_Edge : ',Even_Lebel_Edge)   \n",
    "    last_even_edge = Even_Lebel_Edge[-1]\n",
    "    return last_even_edge, Even_Lebel_Edge\n",
    "\n",
    " "
   ]
  },
  {
   "cell_type": "code",
   "execution_count": 7,
   "id": "249743ae",
   "metadata": {},
   "outputs": [],
   "source": [
    "def Get_Even_Level(lower_edge_list, higher_edge_list):\n",
    "    even_nodes=[]\n",
    "    p=0\n",
    "    for x,y in zip(*[iter(lower_edge_list)]*2):\n",
    "   \n",
    "        i = Return_Single_Value(higher_edge_list,p)\n",
    "        even_nodes.append(x+y+i)\n",
    "        p+=1\n",
    "    \n",
    "    print('Node level  : ',even_nodes)\n",
    "    print('Length : ',len(even_nodes))\n",
    "    \n",
    "\n",
    "   "
   ]
  },
  {
   "cell_type": "code",
   "execution_count": 8,
   "id": "05624843",
   "metadata": {},
   "outputs": [],
   "source": [
    "\n",
    "def Get_Root_Node(edge_list):\n",
    "    root_node=0\n",
    "    for i in edge_list:\n",
    "        root_node += i\n",
    "    print('Root Node  : ',root_node)\n",
    "    "
   ]
  },
  {
   "cell_type": "code",
   "execution_count": 9,
   "id": "8ec951c0",
   "metadata": {},
   "outputs": [],
   "source": [
    "def PerfectBinaryTree(x):\n",
    "    Latest_Odd_Lebel_Edges = []\n",
    "    Latest_Even_Lebel_Edges = []\n",
    "    latest_even_edge_value = 0\n",
    "    latest_odd_edge_value = 0\n",
    "    if x > 0:\n",
    "        flag = 0\n",
    "        Even_Lebel_Last_Edge, Last_Lebel_Edge = Get_Last_Level(x)\n",
    "        Latest_Even_Lebel_Edges = Last_Lebel_Edge.copy()\n",
    "        \n",
    "        temp = 1\n",
    "        while x > 0:\n",
    "            x -= 1\n",
    "            flag = 1\n",
    "            if (flag%2 != 0):\n",
    "                if (temp==1):\n",
    "                    last_odd_edge, Odd_Lebel_Edge = Get_Odd_Last_Level(x)\n",
    "                    Latest_Odd_Lebel_Edges = Odd_Lebel_Edge.copy()\n",
    "                    latest_odd_edge_value = last_odd_edge\n",
    "                    Get_Odd_Level(Latest_Even_Lebel_Edges,Latest_Odd_Lebel_Edges)\n",
    "                else:\n",
    "                    last_odd_edge, Odd_Lebel_Edge = Get_Odd_Level_Edge(last_odd_edge,x)\n",
    "                    Latest_Odd_Lebel_Edges = Odd_Lebel_Edge.copy()\n",
    "                    latest_odd_edge_value = last_odd_edge\n",
    "                    Get_Odd_Level(Latest_Even_Lebel_Edges,Latest_Odd_Lebel_Edges)\n",
    "                x -= 1\n",
    "                temp += 1\n",
    "                flag += 1\n",
    "                continue\n",
    "                \n",
    "            if (flag%2 == 0):\n",
    "                last_even_edge, Even_Lebel_Edge = Get_Even_Level_Edge(Even_Lebel_Last_Edge,x)\n",
    "                Latest_Even_Lebel_Edges = Even_Lebel_Edge.copy()\n",
    "                latest_even_edge_value = last_even_edge\n",
    "                Get_Even_Level(Latest_Even_Lebel_Edges,Latest_Odd_Lebel_Edges)\n",
    "                x -= 1\n",
    "                flag += 1\n",
    "                continue\n",
    "                \n",
    "        else:\n",
    "            Get_Root_Node(Latest_Odd_Lebel_Edges)\n",
    "            \n",
    "            \n",
    "    \n",
    "     "
   ]
  },
  {
   "cell_type": "code",
   "execution_count": 10,
   "id": "fb8bb30f",
   "metadata": {},
   "outputs": [
    {
     "ename": "NameError",
     "evalue": "name 'Get_Last_Level' is not defined",
     "output_type": "error",
     "traceback": [
      "\u001b[1;31m---------------------------------------------------------------------------\u001b[0m",
      "\u001b[1;31mNameError\u001b[0m                                 Traceback (most recent call last)",
      "Input \u001b[1;32mIn [10]\u001b[0m, in \u001b[0;36m<cell line: 1>\u001b[1;34m()\u001b[0m\n\u001b[1;32m----> 1\u001b[0m \u001b[43mPerfectBinaryTree\u001b[49m\u001b[43m(\u001b[49m\u001b[38;5;241;43m4\u001b[39;49m\u001b[43m)\u001b[49m\n",
      "Input \u001b[1;32mIn [9]\u001b[0m, in \u001b[0;36mPerfectBinaryTree\u001b[1;34m(x)\u001b[0m\n\u001b[0;32m      6\u001b[0m \u001b[38;5;28;01mif\u001b[39;00m x \u001b[38;5;241m>\u001b[39m \u001b[38;5;241m0\u001b[39m:\n\u001b[0;32m      7\u001b[0m     flag \u001b[38;5;241m=\u001b[39m \u001b[38;5;241m0\u001b[39m\n\u001b[1;32m----> 8\u001b[0m     Even_Lebel_Last_Edge, Last_Lebel_Edge \u001b[38;5;241m=\u001b[39m \u001b[43mGet_Last_Level\u001b[49m(x)\n\u001b[0;32m      9\u001b[0m     Latest_Even_Lebel_Edges \u001b[38;5;241m=\u001b[39m Last_Lebel_Edge\u001b[38;5;241m.\u001b[39mcopy()\n\u001b[0;32m     11\u001b[0m     temp \u001b[38;5;241m=\u001b[39m \u001b[38;5;241m1\u001b[39m\n",
      "\u001b[1;31mNameError\u001b[0m: name 'Get_Last_Level' is not defined"
     ]
    }
   ],
   "source": [
    "PerfectBinaryTree(4)"
   ]
  },
  {
   "cell_type": "code",
   "execution_count": null,
   "id": "f743a7fa",
   "metadata": {},
   "outputs": [],
   "source": []
  }
 ],
 "metadata": {
  "kernelspec": {
   "display_name": "Python 3 (ipykernel)",
   "language": "python",
   "name": "python3"
  },
  "language_info": {
   "codemirror_mode": {
    "name": "ipython",
    "version": 3
   },
   "file_extension": ".py",
   "mimetype": "text/x-python",
   "name": "python",
   "nbconvert_exporter": "python",
   "pygments_lexer": "ipython3",
   "version": "3.10.6"
  }
 },
 "nbformat": 4,
 "nbformat_minor": 5
}
